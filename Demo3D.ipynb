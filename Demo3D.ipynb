{
 "cells": [
  {
   "cell_type": "markdown",
   "metadata": {},
   "source": [
    "# EDGE-TO: Flexible Fast Python Topology Optimization For Minimum Compliance\n",
    "In this notebook we provide a quick demo on how to use EDGE-TO for different scenarios.\n",
    "\n",
    "A few important notes:\n",
    "- Most memory and compute efficiencies can only be made possible for structured meshes so for the most part this is what you should be doing.\n",
    "- Multi-Grid solvers for large problems are only avaible for structured meshes.\n",
    "- Material models do not yet support automatic differentiation so you will have to define both forward and backwards methods for your solvers.\n",
    "- Currently only linear elasticity physics is provided but you can supply your own stiffness matrix functions for different cases.\n",
    "\n",
    "NOTE: The first time you import EDGE-TO it will take few seconds to compile some functions."
   ]
  },
  {
   "cell_type": "code",
   "execution_count": null,
   "metadata": {},
   "outputs": [],
   "source": [
    "import warnings\n",
    "warnings.filterwarnings(\"ignore\")\n",
    "\n",
    "from EDGETO import *\n",
    "import numpy as np\n",
    "import cupy as cp\n",
    "\n",
    "import matplotlib.pyplot as plt\n",
    "\n",
    "import pygmsh"
   ]
  },
  {
   "cell_type": "markdown",
   "metadata": {},
   "source": [
    "# Material Models\n",
    "First let us take a look at the material model calsses. We provide two types of material models ```SingleMaterial``` and ```PenalizedMultiMaterial```. Both models apply a penalty exponent and compute the gradients for the solver. In both cases you can also define a penaly schedule function. By default the penalty supplied will be applied during optimization. Here we will gradually ramp up penalty from 1 (no penalty) to 3 in the first 50 steps of optimization. Note that the solver will not stop until the schedule penalty and material model penalty are the same. So even if convergence criteria is met during ramp up the solver will continue (This is good because we may quickly hit convergence criteria with low penalty). Now let us start with a single material case first."
   ]
  },
  {
   "cell_type": "code",
   "execution_count": null,
   "metadata": {},
   "outputs": [],
   "source": [
    "def penalty_schedule(final_penalty, iteration):\n",
    "    if iteration > 50:\n",
    "        return final_penalty\n",
    "    else:\n",
    "        return np.round(5*(1-np.cos(iteration/50*np.pi))/2)/5 * (final_penalty-1) + 1\n",
    "        \n",
    "\n",
    "# lets plot the schedule\n",
    "plt.figure(figsize=(10, 5))\n",
    "plt.plot([penalty_schedule(3, i) for i in range(100)])\n",
    "plt.xlabel('Iteration')\n",
    "plt.ylabel('Penalty')\n",
    "plt.title('Penalty schedule')\n",
    "plt.gca().spines['top'].set_visible(False)\n",
    "plt.gca().spines['right'].set_visible(False)\n",
    "plt.show()"
   ]
  },
  {
   "cell_type": "markdown",
   "metadata": {},
   "source": [
    "Now let's setup the material model"
   ]
  },
  {
   "cell_type": "code",
   "execution_count": null,
   "metadata": {},
   "outputs": [],
   "source": [
    "material = SingleMaterial(void=1e-9, penalty=3, penalty_schedule=penalty_schedule, volume_fraction=0.1)"
   ]
  },
  {
   "cell_type": "markdown",
   "metadata": {},
   "source": [
    "# Geometry\n",
    "There are several types of mesh each with some optimization on the compute side. First is a structured mesh which is the most specialized type of mesh and allows for the best memeory and compute efficiency. Second is an unstructured mesh with the same element types (quads, tris in 2D and hexas and tets in 3D), and finally is amixed type unstructured mesh."
   ]
  },
  {
   "cell_type": "code",
   "execution_count": null,
   "metadata": {},
   "outputs": [],
   "source": [
    "# Structured Mesh (64x32x32)\n",
    "mesh = StructuredMesh3D(nx=64, ny=32, nz=32, lx=1, ly=0.5, lz=0.5, dtype=np.float64)\n",
    "\n",
    "# Create a geometry object\n",
    "with pygmsh.occ.Geometry()as geom:\n",
    "    # Load the STEP file\n",
    "    geom.import_shapes(\"PacMan.step\")\n",
    "    geom.characteristic_length_max = 15\n",
    "    geom.characteristic_length_min = 15\n",
    "    mesh_uniform = geom.generate_mesh()\n",
    "\n",
    "    mesh_uniform = [mesh_uniform.points[:,0:3], mesh_uniform.cells[2].data.astype(int).tolist()]\n",
    "\n",
    "\n",
    "mesh_uniform = GeneralMesh(np.array(mesh_uniform[0])/1000, np.array(mesh_uniform[1]), dtype=np.float64)\n",
    "\n",
    "print(f\"Is the mesh uniform? {mesh_uniform.is_uniform}\")"
   ]
  },
  {
   "cell_type": "markdown",
   "metadata": {},
   "source": [
    "A quick not on physics. The mesh object takes as input a function which is meant to compute the stiffness (K), Constitutive/Property (D), Strain-Displacement/Gradient (B) matrices and the element Area/Volume. The signiture of the expected function here is ```python f(x0: np.ndarray) -> Tuple[np.ndarray, np.ndarray, np.ndarray, float]``` where the function takes element node positions as input and returns the K, D, B, A in this order. By default this will use the built in linear ealsticity stiffness we have implemented you will need to change this if you wish to use a different type of FEA physics."
   ]
  },
  {
   "cell_type": "markdown",
   "metadata": {},
   "source": [
    "# Kernels & Filters\n",
    "In our solver we need to supply a kernel for FEA calculations and a Filter kernel for filter application during optimization. Let's see how this is done:"
   ]
  },
  {
   "cell_type": "code",
   "execution_count": null,
   "metadata": {},
   "outputs": [],
   "source": [
    "# Stiffness Kernels\n",
    "kernel = StructuredStiffnessKernel(mesh)\n",
    "kernel_uniform = UniformStiffnessKernel(mesh_uniform)\n",
    "\n",
    "# Filter Kernels\n",
    "filter_kernel = StructuredFilter3D(mesh, r_min=1.5) # This r_min is a multiple of the smallest edge size in the mesh\n",
    "filter_kernel_uniform = GeneralFilter(mesh_uniform, r_min=2.0 * 0.015) # In general cases r_min is mesh space, not scaled by mesh size be cassreful!"
   ]
  },
  {
   "cell_type": "markdown",
   "metadata": {},
   "source": [
    "# Solvers\n",
    "We provide a few different solvers which you can use. In this notebook we focus on CPU solvers which are available as the following:\n",
    "\n",
    "```python\n",
    "    CHOLMOD(kernel: StiffnessKernel)\n",
    "    SPLU(kernel: StiffnessKernel)\n",
    "    SPSOLVE(kernel: StiffnessKernel)\n",
    "    CG(kernel: StiffnessKernel, maxiter=1000, tol=1e-5)\n",
    "    BiCGSTAB(kernel: StiffnessKernel, maxiter=1000, tol=1e-5)\n",
    "    GMRES(kernel: StiffnessKernel, maxiter=1000, tol=1e-5)\n",
    "    MultiGrid(mesh: Union[StructuredMesh2D,StructuredMesh3D],\n",
    "              kernel: StiffnessKernel, maxiter=1000, tol=1e-5, n_smooth=3,\n",
    "              omega=0.5 , n_level = 3, cycle='W', w_level=1, coarse_solver='splu',\n",
    "              matrix_free=False, low_level_tol = 1e-8, low_level_maxiter=5000)\n",
    "```\n",
    "\n",
    "The fastest by far in most cases that can be solved practically using CPU will be CHOLMOD. For larger problems MultiGrid is best but it only works with structured meshes."
   ]
  },
  {
   "cell_type": "code",
   "execution_count": null,
   "metadata": {},
   "outputs": [],
   "source": [
    "solver = MultiGrid(mesh, kernel, maxiter=50, tol=1e-4, n_level=3, w_level=1)\n",
    "solver_uniform = CG(kernel_uniform, maxiter=500, tol=1e-4)"
   ]
  },
  {
   "cell_type": "markdown",
   "metadata": {},
   "source": [
    "# Optimizer Instance\n",
    "Finally all of these will be given to an optimizer instance which will perform optimization using optimality criteria method. We will also use a Plotter instance for visualization."
   ]
  },
  {
   "cell_type": "code",
   "execution_count": null,
   "metadata": {},
   "outputs": [],
   "source": [
    "optimizer = TopOpt(mesh, material, kernel, solver, filter_kernel, max_iter=300, fun_tol=1e-5, ch_tol=1e-4)\n",
    "optimizer_uniform = TopOpt(mesh_uniform, material, kernel_uniform, solver_uniform, filter_kernel_uniform, max_iter=300, fun_tol=1e-5, ch_tol=1e-4)\n",
    "\n",
    "plotter = Plotter(optimizer)\n",
    "plotter_uniform = Plotter(optimizer_uniform)"
   ]
  },
  {
   "cell_type": "code",
   "execution_count": null,
   "metadata": {},
   "outputs": [],
   "source": [
    "plotter.display_mesh()"
   ]
  },
  {
   "cell_type": "code",
   "execution_count": null,
   "metadata": {},
   "outputs": [],
   "source": [
    "plotter_uniform.display_mesh()"
   ]
  },
  {
   "cell_type": "markdown",
   "metadata": {},
   "source": [
    "## Setting Forces and Boundary Conditions\n",
    "You can supply both positions and node indicies for boundary condtions. For the structured mesh we will setup the cantilever problem and for the other cases we will apply fixed points at the four points."
   ]
  },
  {
   "cell_type": "code",
   "execution_count": null,
   "metadata": {},
   "outputs": [],
   "source": [
    "# remove any previous BCs (not needed here)\n",
    "optimizer.reset_BC()\n",
    "optimizer.reset_F()\n",
    "\n",
    "# Use nodal method for structured mesh\n",
    "bc_nodes = np.where(np.isclose(mesh.nodes[:,0],0))[0]\n",
    "bc_values = np.array([[1,1,1]]) # Broadcastable, If needed you can provide one for each point\n",
    "optimizer.add_BC_nodal(bc_nodes, bc_values)\n",
    "\n",
    "force_node = np.where(np.logical_and(np.isclose(mesh.nodes[:,0],1), np.isclose(mesh.nodes[:,1],0.25)))[0]\n",
    "force = np.array([[0,-1, 0]])/force_node.shape[0] # Broadcastable, If needed you can provide one for each point\n",
    "optimizer.add_F_nodal(force_node, force)\n",
    "\n",
    "plotter.display()"
   ]
  },
  {
   "cell_type": "code",
   "execution_count": null,
   "metadata": {},
   "outputs": [],
   "source": [
    "optimizer_uniform.reset_BC()\n",
    "optimizer_uniform.reset_F()\n",
    "\n",
    "# find nodes on the boundary of the packman circle\n",
    "bc_nodes = np.isclose(np.linalg.norm(mesh_uniform.nodes[:,0:2] - np.array([0.5,0.5]), axis=1),0.5)\n",
    "bc_nodes = np.logical_and(bc_nodes, mesh_uniform.nodes[:,0] < 0.05)\n",
    "bc_nodes = np.where(bc_nodes)[0]\n",
    "bc_values = np.array([[1,1,1]]) # Broadcastable, If needed you can provide one for each point\n",
    "optimizer_uniform.add_BC_nodal(bc_nodes, bc_values)\n",
    "# apply load at the mouth of the packman\n",
    "upper_mouth = np.logical_and(np.isclose(np.abs(np.dot(mesh_uniform.nodes,np.array([-1,1,0]))),0), mesh_uniform.nodes[:,0] > 0.5)\n",
    "force_node = np.where(upper_mouth)[0]\n",
    "force_nodes = force_node[np.isin(force_node, bc_nodes, invert=True)]\n",
    "force = np.array([[1,-1, 0]])/force_nodes.shape[0]/4 # Broadcastable, If needed you can provide one for each point\n",
    "optimizer_uniform.add_F_nodal(force_nodes, force)\n",
    "\n",
    "lower_mouth = np.logical_and(np.isclose(np.abs(np.dot(mesh_uniform.nodes,np.array([1,1,0]))),1.0), mesh_uniform.nodes[:,0] > 0.5)\n",
    "force_node = np.where(lower_mouth)[0]\n",
    "force_nodes = force_node[np.isin(force_node, bc_nodes, invert=True)]\n",
    "force = np.array([[1,1, 0]])/force_nodes.shape[0]/4 # Broadcastable, If needed you can provide one for each point\n",
    "optimizer_uniform.add_F_nodal(force_nodes, force)\n",
    "\n",
    "plotter_uniform.display()"
   ]
  },
  {
   "cell_type": "markdown",
   "metadata": {},
   "source": [
    "# Optimization"
   ]
  },
  {
   "cell_type": "code",
   "execution_count": null,
   "metadata": {},
   "outputs": [],
   "source": [
    "rho, flag, history = optimizer.optimize(save_comp_history=True)\n",
    "\n",
    "print(f\"Optimization converged: {flag}\")\n",
    "\n",
    "plt.figure(figsize=(10, 5))\n",
    "plt.plot(history['comp_history'],'--' , label='compliance', color=\"#002b72\")\n",
    "plt.scatter([49], [history['comp_history'][49]], color=\"#ff7b00\", label = \"Penalty Warmup Ends\", s=100)\n",
    "plt.xlabel('Iteration')\n",
    "plt.ylabel('Compliance')\n",
    "\n",
    "plt.gca().spines['top'].set_visible(False)\n",
    "plt.gca().spines['right'].set_visible(False)\n",
    "plt.legend()\n",
    "plt.show()\n",
    "\n",
    "plotter.display_solution(rho)"
   ]
  },
  {
   "cell_type": "code",
   "execution_count": null,
   "metadata": {},
   "outputs": [],
   "source": [
    "rho_uniform, flag, history_uniform = optimizer_uniform.optimize(save_comp_history=True)\n",
    "\n",
    "print(f\"Optimization converged: {flag}\")\n",
    "\n",
    "plt.figure(figsize=(10, 5))\n",
    "plt.plot(history_uniform['comp_history'],'--' , label='compliance', color=\"#002b72\")\n",
    "plt.scatter([49], [history_uniform['comp_history'][49]], color=\"#ff7b00\", label = \"Penalty Warmup Ends\", s=100)\n",
    "plt.xlabel('Iteration')\n",
    "plt.ylabel('Compliance')\n",
    "\n",
    "plt.gca().spines['top'].set_visible(False)\n",
    "plt.gca().spines['right'].set_visible(False)\n",
    "plt.legend()\n",
    "plt.show()\n",
    "\n",
    "plotter_uniform.display_solution(rho_uniform)"
   ]
  }
 ],
 "metadata": {
  "kernelspec": {
   "display_name": "topology",
   "language": "python",
   "name": "python3"
  },
  "language_info": {
   "codemirror_mode": {
    "name": "ipython",
    "version": 3
   },
   "file_extension": ".py",
   "mimetype": "text/x-python",
   "name": "python",
   "nbconvert_exporter": "python",
   "pygments_lexer": "ipython3",
   "version": "3.10.14"
  }
 },
 "nbformat": 4,
 "nbformat_minor": 2
}
